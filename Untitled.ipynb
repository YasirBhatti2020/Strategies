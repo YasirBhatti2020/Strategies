{
 "cells": [
  {
   "cell_type": "code",
   "execution_count": 1,
   "metadata": {},
   "outputs": [],
   "source": [
    "from apscheduler.schedulers.background import BackgroundScheduler\n",
    "\n",
    "\n",
    "scheduler = BackgroundScheduler()"
   ]
  },
  {
   "cell_type": "code",
   "execution_count": 2,
   "metadata": {},
   "outputs": [],
   "source": [
    "def MyPrintFunc():\n",
    "    print('I am doing something - really busy')"
   ]
  },
  {
   "cell_type": "code",
   "execution_count": 3,
   "metadata": {},
   "outputs": [],
   "source": [
    "job = scheduler.add_job(MyPrintFunc, 'interval', seconds=2)"
   ]
  },
  {
   "cell_type": "code",
   "execution_count": 4,
   "metadata": {},
   "outputs": [
    {
     "name": "stdout",
     "output_type": "stream",
     "text": [
      "I am doing something - really busy\n",
      "I am doing something - really busy\n",
      "I am doing something - really busy\n",
      "I am doing something - really busy\n",
      "I am doing something - really busy\n",
      "I am doing something - really busy\n",
      "I am doing something - really busy\n",
      "I am doing something - really busy\n",
      "I am doing something - really busy\n",
      "I am doing something - really busy\n",
      "I am doing something - really busy\n",
      "I am doing something - really busy\n",
      "I am doing something - really busy\n",
      "I am doing something - really busy\n",
      "I am doing something - really busy\n",
      "I am doing something - really busy\n",
      "I am doing something - really busy\n",
      "I am doing something - really busy\n",
      "I am doing something - really busy\n",
      "I am doing something - really busy\n"
     ]
    }
   ],
   "source": [
    "scheduler.start()"
   ]
  },
  {
   "cell_type": "code",
   "execution_count": 9,
   "metadata": {},
   "outputs": [],
   "source": [
    "scheduler.pause()"
   ]
  },
  {
   "cell_type": "code",
   "execution_count": 7,
   "metadata": {},
   "outputs": [
    {
     "name": "stdout",
     "output_type": "stream",
     "text": [
      "I am doing something - really busy\n",
      "I am doing something - really busy\n",
      "I am doing something - really busy\n",
      "I am doing something - really busy\n",
      "I am doing something - really busy\n",
      "I am doing something - really busy\n",
      "I am doing something - really busy\n",
      "I am doing something - really busy\n",
      "I am doing something - really busy\n",
      "I am doing something - really busy\n",
      "I am doing something - really busy\n",
      "I am doing something - really busy\n",
      "I am doing something - really busy\n",
      "I am doing something - really busy\n",
      "I am doing something - really busy\n",
      "I am doing something - really busy\n"
     ]
    }
   ],
   "source": [
    "def mFunc():\n",
    "    print('I joined too')"
   ]
  },
  {
   "cell_type": "code",
   "execution_count": 8,
   "metadata": {},
   "outputs": [
    {
     "name": "stdout",
     "output_type": "stream",
     "text": [
      "I joined too\n",
      "I am doing something - really busy\n",
      "I joined too\n",
      "I joined too\n",
      "I am doing something - really busy\n",
      "I joined too\n",
      "I joined too\n",
      "I am doing something - really busy\n",
      "I joined too\n",
      "I joined too\n",
      "I am doing something - really busy\n",
      "I joined too\n",
      "I joined too\n",
      "I am doing something - really busy\n",
      "I joined too\n",
      "I joined too\n",
      "I am doing something - really busy\n",
      "I joined too\n",
      "I joined too\n",
      "I am doing something - really busy\n",
      "I joined too\n",
      "I joined too\n",
      "I am doing something - really busy\n",
      "I joined too\n",
      "I joined too\n",
      "I am doing something - really busy\n",
      "I joined too\n",
      "I joined too\n",
      "I am doing something - really busy\n",
      "I joined too\n",
      "I joined too\n",
      "I am doing something - really busy\n",
      "I joined too\n",
      "I joined too\n",
      "I am doing something - really busy\n",
      "I joined too\n",
      "I joined too\n",
      "I am doing something - really busy\n",
      "I joined too\n",
      "I joined too\n",
      "I am doing something - really busy\n",
      "I joined too\n",
      "I joined too\n",
      "I am doing something - really busy\n",
      "I joined too\n",
      "I joined too\n",
      "I am doing something - really busy\n",
      "I joined too\n",
      "I joined too\n",
      "I am doing something - really busy\n"
     ]
    }
   ],
   "source": [
    "job = scheduler.add_job(mFunc, 'interval', seconds=1)"
   ]
  },
  {
   "cell_type": "code",
   "execution_count": null,
   "metadata": {},
   "outputs": [],
   "source": []
  }
 ],
 "metadata": {
  "kernelspec": {
   "display_name": "Python 3",
   "language": "python",
   "name": "python3"
  },
  "language_info": {
   "codemirror_mode": {
    "name": "ipython",
    "version": 3
   },
   "file_extension": ".py",
   "mimetype": "text/x-python",
   "name": "python",
   "nbconvert_exporter": "python",
   "pygments_lexer": "ipython3",
   "version": "3.8.5"
  }
 },
 "nbformat": 4,
 "nbformat_minor": 4
}
